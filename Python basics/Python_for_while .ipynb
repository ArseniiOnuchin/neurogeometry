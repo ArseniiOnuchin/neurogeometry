{
 "cells": [
  {
   "cell_type": "markdown",
   "metadata": {},
   "source": [
    "# Python: лекционные материалы\n",
    "### Введение в циклы и базовые типы данных "
   ]
  },
  {
   "cell_type": "markdown",
   "metadata": {},
   "source": [
    "В данном ноутбуке разбираются темы, связанные с базовыми алгебраическими операциями, словарями, функцией range(), циклами for и while"
   ]
  },
  {
   "cell_type": "markdown",
   "metadata": {},
   "source": [
    "Использование операций += -= = /= //= *="
   ]
  },
  {
   "cell_type": "code",
   "execution_count": 7,
   "metadata": {},
   "outputs": [
    {
     "name": "stdout",
     "output_type": "stream",
     "text": [
      "2\n",
      "3\n"
     ]
    }
   ],
   "source": [
    "# Стандартное алгебраическое сложение \n",
    "\n",
    "x = 1\n",
    "x = x+1\n",
    "print(x)\n",
    "\n",
    "# Можно сократить запись, удобно в циклах, например для счетчиков числа итераций\n",
    "\n",
    "x += 1\n",
    "print(x)"
   ]
  },
  {
   "cell_type": "code",
   "execution_count": 8,
   "metadata": {},
   "outputs": [
    {
     "name": "stdout",
     "output_type": "stream",
     "text": [
      "8\n",
      "6\n",
      "18\n",
      "3 Как мы видим, получилось число 3, так как 3.5 не являлось целым числом и было округлено автоматически\n",
      "1.0\n",
      "1.0\n"
     ]
    }
   ],
   "source": [
    "n = 5\n",
    "\n",
    "# n = n+3\n",
    "n += 3\n",
    "print(n)\n",
    "\n",
    "# Такая же сокращенная версия доступна для остальных алгебраических операций\n",
    "\n",
    "# n = n-2\n",
    "n -= 2\n",
    "print(n)\n",
    "\n",
    "# n = n*3\n",
    "n *= 3\n",
    "print(n)\n",
    "\n",
    "# Операция // называется целочисленным делением и возвращает только целую часть после деления \n",
    "\n",
    "n = 7\n",
    "# n = n//2\n",
    "n //= 2\n",
    "print(n, 'Как мы видим, получилось число 3, так как 3.5 не являлось целым числом и было округлено автоматически')\n",
    "\n",
    "# n = n/3\n",
    "n /= 3\n",
    "print(n)\n",
    "\n",
    "#n = n**2\n",
    "n **= 2\n",
    "print(n)"
   ]
  },
  {
   "cell_type": "markdown",
   "metadata": {},
   "source": [
    "# Генератор range()\n",
    "\n",
    "\n",
    "Позволяет получать объекты типа $range$, которые затем можно легко преобразовать в переменные типа $list$, которые заполнены числами из указанного диапазона. Разберем параметры функции $range(a, b, c)$: \n",
    "\n",
    "$a$ -- число, с которого начинается создаваемый нами список чисел, например, с $a = 1$; \n",
    "\n",
    "\n",
    "$b$ -- число, до которого списке создается, т.е. в полученном списке будут все целые числа из полуинтервала $[a,b)$;\n",
    "\n",
    "\n",
    "$c$ -- число, которое определяет шаг, с которым мы будем брать новые числа в список. То есть, если первое число $a$ было равно $1$, а $c = 2$, то следующий за $a$ элемент списка будет иметь вид $a+c$. И так вплоть до $<b$;"
   ]
  },
  {
   "cell_type": "code",
   "execution_count": 9,
   "metadata": {},
   "outputs": [
    {
     "name": "stdout",
     "output_type": "stream",
     "text": [
      "range(1, 7, 2)\n",
      "<class 'range'>\n",
      "[1, 3, 5]\n"
     ]
    }
   ],
   "source": [
    "r = range(1, 7, 2)\n",
    "print(r)\n",
    "print(type(r))\n",
    "print(list(r))"
   ]
  },
  {
   "cell_type": "code",
   "execution_count": 10,
   "metadata": {},
   "outputs": [
    {
     "name": "stdout",
     "output_type": "stream",
     "text": [
      "[0, 1, 2, 3, 4]\n",
      "[1, 2, 3, 4]\n",
      "[5, 3]\n",
      "[-1, 1, 3]\n"
     ]
    }
   ],
   "source": [
    "lst = list(range(5))\n",
    "print(lst)\n",
    "\n",
    "lst = list(range(1, 5))\n",
    "print(lst)\n",
    "\n",
    "lst = list(range(5, 1, -2))\n",
    "print(lst)\n",
    "\n",
    "lst = list(range(-1, 4, 2))\n",
    "print(lst)"
   ]
  },
  {
   "cell_type": "code",
   "execution_count": 11,
   "metadata": {},
   "outputs": [
    {
     "name": "stdout",
     "output_type": "stream",
     "text": [
      "[0, 1, 2, 3, 4]\n",
      "[1, 2, 3, 4]\n"
     ]
    }
   ],
   "source": [
    "lst = list(range(5))\n",
    "print(lst)\n",
    "\n",
    "lst = list(range(1, 5))\n",
    "print(lst)"
   ]
  },
  {
   "cell_type": "code",
   "execution_count": 12,
   "metadata": {},
   "outputs": [
    {
     "name": "stdout",
     "output_type": "stream",
     "text": [
      "7 1 13 49\n"
     ]
    }
   ],
   "source": [
    "r = range(1, 15, 2)\n",
    "print(len(r), min(r), max(r), sum(r))"
   ]
  },
  {
   "cell_type": "markdown",
   "metadata": {},
   "source": [
    "Вообще, функция $range()$ заточена под работу с циклами. Поэтому давайте разберемся с ними. "
   ]
  },
  {
   "cell_type": "markdown",
   "metadata": {},
   "source": [
    "# Циклы и словари\n",
    "\n",
    "Циклы — это ключевая концепция компьютерных наук. Если вы хотите стать хорошим кодером, умение обращаться с циклами — это важнейший навык!\n",
    "\n",
    "Начнем с циклов for"
   ]
  },
  {
   "cell_type": "code",
   "execution_count": 13,
   "metadata": {},
   "outputs": [
    {
     "name": "stdout",
     "output_type": "stream",
     "text": [
      "0\n",
      "1\n",
      "2\n"
     ]
    }
   ],
   "source": [
    "# Здесь цикл берет все n из диапозона от 0 до 3, не включая 3\n",
    "# Это некоторая особенность синтаксиса, которую нужно просто запомнить: индексация начинается с 0 и идет до n-1 \n",
    "# В данном случае n = 3, поэтому цикл будет выводить все числа от 0 до 2\n",
    "\n",
    "for n in range(3):\n",
    "    print(n)"
   ]
  },
  {
   "cell_type": "code",
   "execution_count": 14,
   "metadata": {
    "scrolled": true
   },
   "outputs": [
    {
     "name": "stdout",
     "output_type": "stream",
     "text": [
      "-1\n",
      "1\n",
      "3\n"
     ]
    }
   ],
   "source": [
    "# Также можно использовать индексы, напрямую из списка, т.е. его элементы\n",
    "# Для этого надо просто написать for n in list: \n",
    "# И не забыть двоиточие в конце :)\n",
    "\n",
    "r = range(-1,4,2)\n",
    "\n",
    "for n in r:\n",
    "    print(n)"
   ]
  },
  {
   "cell_type": "code",
   "execution_count": 15,
   "metadata": {},
   "outputs": [
    {
     "name": "stdout",
     "output_type": "stream",
     "text": [
      "0\n",
      "1\n"
     ]
    }
   ],
   "source": [
    "n = 4\n",
    "for k in range(n//2):\n",
    "    print(k)"
   ]
  },
  {
   "cell_type": "code",
   "execution_count": 20,
   "metadata": {},
   "outputs": [
    {
     "name": "stdout",
     "output_type": "stream",
     "text": [
      "1\n",
      "2\n",
      "3\n",
      "4\n"
     ]
    }
   ],
   "source": [
    "lst = [1, 2, 3, 4]\n",
    "for n in lst:\n",
    "    #print(n, end = ' ')\n",
    "    print(n)"
   ]
  },
  {
   "cell_type": "markdown",
   "metadata": {},
   "source": [
    "Давайте создадим некоторое подобие массива данных, используя для этого типа данных словарь. Словари состоят из ключей и объектов, привязанных к ключу. То есть, вы привязываете к ключу различные данные, например, к имени испытуемого полученные им в исследовании параметры и получаете доступ к ним через вызов данного ключа. "
   ]
  },
  {
   "cell_type": "markdown",
   "metadata": {},
   "source": [
    "Чтобы работать со словарём, его нужно создать. Сделать это можно несколькими способами. Во-первых, с помощью литерала:"
   ]
  },
  {
   "cell_type": "code",
   "execution_count": 22,
   "metadata": {},
   "outputs": [
    {
     "name": "stdout",
     "output_type": "stream",
     "text": [
      "{}\n",
      "{'dict': 1, 'dictionary': 2}\n",
      "{'dict': [1, 2, 3, 4], 'dictionary': ['Name', 'Second Name']}\n"
     ]
    }
   ],
   "source": [
    "# Создадим пустой словарь, в отличие от списка [], словарь вызывается {}\n",
    "d = {}\n",
    "print(d)\n",
    "\n",
    "# В ' ' записывается ключ, например, имя, а после : объекты, которые будут вызываться данным ключом\n",
    "\n",
    "d = {'dict': 1, 'dictionary': 2}\n",
    "print(d)\n",
    "\n",
    "d = {'dict': [1,2,3,4], 'dictionary': ['Name', 'Second Name']}\n",
    "print(d)"
   ]
  },
  {
   "cell_type": "markdown",
   "metadata": {},
   "source": [
    "Также можно создать словарь с помощью функции $dict()$:"
   ]
  },
  {
   "cell_type": "code",
   "execution_count": 25,
   "metadata": {},
   "outputs": [
    {
     "name": "stdout",
     "output_type": "stream",
     "text": [
      "{'short': 'dict', 'long': 'dictionary'}\n",
      "{'short': 'dict', 'long': 'dictionary'}\n",
      "True\n"
     ]
    }
   ],
   "source": [
    "# В такой функции будет столько же аргументов, сколько мы хотим получить элементов в словаре\n",
    "# Перед знаком равно идет наименование ключа, а после элементы, которые в него будут записаны\n",
    "\n",
    "d = dict(short='dict', long='dictionary')\n",
    "print(d)\n",
    "\n",
    "d2 = {'short': 'dict', 'long': 'dictionary'}\n",
    "print(d2)\n",
    "\n",
    "# Проверим, совпадают ли созданные двумя различными способами словари, через вызов условия if\n",
    "\n",
    "if d == d2:\n",
    "    print(True)\n"
   ]
  },
  {
   "cell_type": "code",
   "execution_count": 26,
   "metadata": {},
   "outputs": [
    {
     "name": "stdout",
     "output_type": "stream",
     "text": [
      "{1: 1, 2: 4}\n"
     ]
    }
   ],
   "source": [
    "# Ещё один способ записи аргументов в функции dict() -- список с парами элементов\n",
    "# Тогда функция возьмет первый элемент пары как ключа, а второй как объект\n",
    "# Удобный способ для преобразования в словарь, например, списка координат точек\n",
    "\n",
    "d = dict([(1, 1), (2, 4)])\n",
    "print(d)\n"
   ]
  },
  {
   "cell_type": "markdown",
   "metadata": {},
   "source": [
    "Помимо этого, существуют так называемая генерация словарей. Это когда внутри словаря записывается некоторое условие, которое затем используется для создания элементов словаря"
   ]
  },
  {
   "cell_type": "code",
   "execution_count": 27,
   "metadata": {},
   "outputs": [
    {
     "name": "stdout",
     "output_type": "stream",
     "text": [
      "{0: 0, 1: 1, 2: 4, 3: 9, 4: 16, 5: 25, 6: 36}\n"
     ]
    }
   ],
   "source": [
    "# Внутри скобок задающих словарь {} пишем условие на элементы\n",
    "# Двоеточием : отделяем ключ от объекта, вызываемого по нему\n",
    "\n",
    "d = {a: a ** 2 for a in range(7)}\n",
    "print(d)"
   ]
  },
  {
   "cell_type": "markdown",
   "metadata": {},
   "source": [
    "Теперь попробуем добавить записей в словарь и извлечь значения ключей:"
   ]
  },
  {
   "cell_type": "code",
   "execution_count": 29,
   "metadata": {},
   "outputs": [
    {
     "name": "stdout",
     "output_type": "stream",
     "text": [
      "2\n"
     ]
    }
   ],
   "source": [
    "# Вызовем элемент по ключу 1\n",
    "d = {1: 2, 2: 4, 3: 9}\n",
    "print(d[1])"
   ]
  },
  {
   "cell_type": "code",
   "execution_count": 30,
   "metadata": {},
   "outputs": [
    {
     "ename": "KeyError",
     "evalue": "0",
     "output_type": "error",
     "traceback": [
      "\u001b[1;31m---------------------------------------------------------------------------\u001b[0m",
      "\u001b[1;31mKeyError\u001b[0m                                  Traceback (most recent call last)",
      "\u001b[1;32m<ipython-input-30-4925074e7390>\u001b[0m in \u001b[0;36m<module>\u001b[1;34m\u001b[0m\n\u001b[0;32m      1\u001b[0m \u001b[0md\u001b[0m \u001b[1;33m=\u001b[0m \u001b[1;33m{\u001b[0m\u001b[1;36m1\u001b[0m\u001b[1;33m:\u001b[0m \u001b[1;36m2\u001b[0m\u001b[1;33m,\u001b[0m \u001b[1;36m2\u001b[0m\u001b[1;33m:\u001b[0m \u001b[1;36m4\u001b[0m\u001b[1;33m,\u001b[0m \u001b[1;36m3\u001b[0m\u001b[1;33m:\u001b[0m \u001b[1;36m9\u001b[0m\u001b[1;33m}\u001b[0m\u001b[1;33m\u001b[0m\u001b[1;33m\u001b[0m\u001b[0m\n\u001b[1;32m----> 2\u001b[1;33m \u001b[0mprint\u001b[0m\u001b[1;33m(\u001b[0m\u001b[0md\u001b[0m\u001b[1;33m[\u001b[0m\u001b[1;36m0\u001b[0m\u001b[1;33m]\u001b[0m\u001b[1;33m)\u001b[0m\u001b[1;33m\u001b[0m\u001b[1;33m\u001b[0m\u001b[0m\n\u001b[0m",
      "\u001b[1;31mKeyError\u001b[0m: 0"
     ]
    }
   ],
   "source": [
    "# Попытка вызова элемента по несуществующему ключу выдаст ошибку\n",
    "# Если бы мы работали со списками, то вызов нулевого элемента просто вывел бы первый элемент списка\n",
    "# Но элементы словаря не упорядочены и не имеют внутренней индексации\n",
    "\n",
    "d = {1: 2, 2: 4, 3: 9}\n",
    "print(d[0])"
   ]
  },
  {
   "cell_type": "code",
   "execution_count": 31,
   "metadata": {},
   "outputs": [
    {
     "name": "stdout",
     "output_type": "stream",
     "text": [
      "1\n"
     ]
    }
   ],
   "source": [
    "# Проверим это ещё раз на списках\n",
    "\n",
    "lst = [1, 2, 3]\n",
    "print(lst[0])"
   ]
  },
  {
   "cell_type": "code",
   "execution_count": 32,
   "metadata": {},
   "outputs": [
    {
     "name": "stdout",
     "output_type": "stream",
     "text": [
      "{1: 2, 2: 4, 3: 9}\n",
      "{1: 2, 2: 4, 3: 9, 4: 16}\n"
     ]
    }
   ],
   "source": [
    "# Присвоим новый элемент к уже созданному словарю \n",
    "\n",
    "d = {1: 2, 2: 4, 3: 9}\n",
    "print(d)\n",
    "# Ключ 4 свободен, поэтому будет создан заново и прикреплен к объекту, стоящему после знака =\n",
    "\n",
    "d[4] = 4 ** 2\n",
    "print(d)"
   ]
  },
  {
   "cell_type": "markdown",
   "metadata": {},
   "source": [
    "Присвоение по существующему ключу перезаписывает его содержимое, а попытка извлечения несуществующего ключа выдаст ошибку. \n",
    "\n",
    "У словарей, так же как и у списков, есть свои методы. Это не функции, в полном смысле и вызываются только для переменных с фиксированным типом."
   ]
  },
  {
   "cell_type": "code",
   "execution_count": 34,
   "metadata": {},
   "outputs": [
    {
     "name": "stdout",
     "output_type": "stream",
     "text": [
      "{1: 2, 2: 4, 3: 9}\n",
      "None\n"
     ]
    }
   ],
   "source": [
    "# dict.clear() - очищает словарь\n",
    "\n",
    "d = {1: 2, 2: 4, 3: 9}\n",
    "print(d)\n",
    "d = d.clear()\n",
    "print(d)"
   ]
  },
  {
   "cell_type": "code",
   "execution_count": 36,
   "metadata": {},
   "outputs": [
    {
     "name": "stdout",
     "output_type": "stream",
     "text": [
      "{1: 2, 2: 4, 3: 9}\n",
      "{1: 2, 2: 4, 3: 9}\n",
      "True\n"
     ]
    }
   ],
   "source": [
    "# dict.copy() - возвращает копию словаря\n",
    "\n",
    "d = {1: 2, 2: 4, 3: 9}\n",
    "print(d)\n",
    "c = d.copy()\n",
    "print(c)\n",
    "if d == c:\n",
    "    print(True)"
   ]
  },
  {
   "cell_type": "code",
   "execution_count": 37,
   "metadata": {},
   "outputs": [
    {
     "name": "stdout",
     "output_type": "stream",
     "text": [
      "dict_keys([1, 2, 3])\n"
     ]
    }
   ],
   "source": [
    "# dict.keys() - возвращает ключи\n",
    "d = {1: 2, 2: 4, 3: 9}\n",
    "print(d.keys())"
   ]
  },
  {
   "cell_type": "code",
   "execution_count": null,
   "metadata": {},
   "outputs": [],
   "source": [
    "# dict.values() - возвращает пары значения ключей\n",
    "d = {1: 2, 2: 4, 3: 9}\n",
    "print(d.values())"
   ]
  },
  {
   "cell_type": "markdown",
   "metadata": {},
   "source": [
    "Вернемся к циклам и попробуем разобраться с ними"
   ]
  },
  {
   "cell_type": "code",
   "execution_count": 38,
   "metadata": {},
   "outputs": [
    {
     "name": "stdout",
     "output_type": "stream",
     "text": [
      "Janeway\n",
      "Picard\n",
      "Sisko\n"
     ]
    }
   ],
   "source": [
    "# Создадим какой-нибудь список\n",
    "\n",
    "captains = ['Janeway', 'Picard', 'Sisko']\n",
    "\n",
    "# Цикл for берет имена (вместо первого слова captains можно написать любое или букву просто) из списка и выводит их \n",
    "\n",
    "for captain in captains:\n",
    "    print(captain)"
   ]
  },
  {
   "cell_type": "markdown",
   "metadata": {},
   "source": [
    "Как вы видите, цикл for позволяет вам выполнять определенные части кода, столько раз, сколько вам нужно. В данном случае, мы зациклили список имен и вывели их."
   ]
  },
  {
   "cell_type": "code",
   "execution_count": 28,
   "metadata": {},
   "outputs": [
    {
     "name": "stdout",
     "output_type": "stream",
     "text": [
      "Total number of records: 10 \n",
      "\n",
      "{'age': 18, 'size': 41, 'room': 105}\n",
      "{'age': 19, 'size': 43, 'room': 110}\n",
      "{'age': 20, 'size': 45, 'room': 115}\n",
      "\n",
      "{'age': 50, 'size': 100, 'room': 110}\n"
     ]
    }
   ],
   "source": [
    "# Создание пустого списка\n",
    "info_lst = []\n",
    "\n",
    "# Создание 10 записей\n",
    "N = 10\n",
    "age = 17\n",
    "size = 39\n",
    "room = 100\n",
    "\n",
    "for n in range(N):\n",
    "    age += 1\n",
    "    size += 2\n",
    "    room += 5\n",
    "    new_info = {'age': age, 'size': size, 'room': room}\n",
    "    info_lst.append(new_info)\n",
    "\n",
    "# Вывод количества записей\n",
    "print(\"Total number of records:\", len(info_lst), '\\n')\n",
    "\n",
    "# Вывод первых 3 записей\n",
    "for info in info_lst[:3]:\n",
    "    print(info)\n",
    "\n",
    "# Изменение одной записи\n",
    "k=1\n",
    "info_lst[k]['age'] = 50\n",
    "info_lst[k]['size'] = 100\n",
    "print()\n",
    "print(info_lst[k])"
   ]
  },
  {
   "cell_type": "code",
   "execution_count": 29,
   "metadata": {},
   "outputs": [
    {
     "name": "stdout",
     "output_type": "stream",
     "text": [
      "Language Python created in 1991 \n",
      "\n",
      "Key: Python \t\tValue: 1991\n",
      "Key: C \t\tValue: 1973\n",
      "Key: Java \t\tValue: 1996\n",
      "Key: JavaScript \t\tValue: 1995\n",
      "Key: Pascal \t\tValue: 1970\n",
      "Key: Fortran \t\tValue: 1957\n",
      "Key: Cobol \t\tValue: 1959\n",
      "Key: Algol \t\tValue: 1958\n",
      "\n",
      "\n",
      "Key: Python\n",
      "Key: C\n",
      "Key: Java\n",
      "Key: JavaScript\n",
      "Key: Pascal\n",
      "Key: Fortran\n",
      "Key: Cobol\n",
      "Key: Algol\n",
      "\n",
      "\n",
      "Key: Python\n",
      "Key: C\n",
      "Key: Java\n",
      "Key: JavaScript\n",
      "Key: Pascal\n",
      "Key: Fortran\n",
      "Key: Cobol\n",
      "Key: Algol\n",
      "\n",
      "\n",
      "Key: Algol\n",
      "Key: C\n",
      "Key: Cobol\n",
      "Key: Fortran\n",
      "Key: Java\n",
      "Key: JavaScript\n",
      "Key: Pascal\n",
      "Key: Python\n",
      "\n",
      "\n",
      "Value: 1991\n",
      "Value: 1973\n",
      "Value: 1996\n",
      "Value: 1995\n",
      "Value: 1970\n",
      "Value: 1957\n",
      "Value: 1959\n",
      "Value: 1958\n"
     ]
    }
   ],
   "source": [
    "languages = {\n",
    "            'Python' : 1991,\n",
    "            'C' : 1973,\n",
    "            'Java' : 1996,\n",
    "            'JavaScript' : 1995,\n",
    "            'Pascal' : 1970,\n",
    "            'Fortran' : 1957,\n",
    "            'Cobol' : 1959,\n",
    "            'Algol' : 1958\n",
    "            }\n",
    "\n",
    "lang = 'Python'\n",
    "print(\"Language\", lang, \"created in\", languages[lang],'\\n')\n",
    "\n",
    "for key, val in languages.items():\n",
    "    print(\"Key:\", key, \"\\t\\tValue:\", val)\n",
    "\n",
    "print('\\n')\n",
    "for key in languages.keys():\n",
    "    print(\"Key:\", key)\n",
    "\n",
    "print('\\n')\n",
    "for key in languages:\n",
    "    print(\"Key:\", key)\n",
    "    \n",
    "print('\\n')\n",
    "for key in sorted(languages):\n",
    "    print(\"Key:\", key)\n",
    "    \n",
    "print('\\n')\n",
    "for val in languages.values():\n",
    "    print(\"Value:\", val)"
   ]
  },
  {
   "cell_type": "markdown",
   "metadata": {},
   "source": [
    "Распечатать текст в столбик:"
   ]
  },
  {
   "cell_type": "code",
   "execution_count": 30,
   "metadata": {},
   "outputs": [
    {
     "name": "stdout",
     "output_type": "stream",
     "text": [
      "Т\n",
      "е\n",
      "к\n",
      "с\n",
      "т\n"
     ]
    }
   ],
   "source": [
    "# Плохое, но работающее решение\n",
    "msg = \"Текст\"\n",
    "for n in range(len(msg)):\n",
    "    print(msg[n])"
   ]
  },
  {
   "cell_type": "code",
   "execution_count": 31,
   "metadata": {},
   "outputs": [
    {
     "name": "stdout",
     "output_type": "stream",
     "text": [
      "Т\n",
      "е\n",
      "к\n",
      "с\n",
      "т\n"
     ]
    }
   ],
   "source": [
    "# Хорошее решение\n",
    "msg = \"Текст\"\n",
    "for s in msg:\n",
    "    print(s)"
   ]
  },
  {
   "cell_type": "markdown",
   "metadata": {},
   "source": [
    "Метод split() используется для разделения строки на части в определенных местах (по умолчанию в местах, где стоит пробел) и возвращении списка, элементами которого будут являться части изначальной строки"
   ]
  },
  {
   "cell_type": "code",
   "execution_count": 42,
   "metadata": {},
   "outputs": [
    {
     "name": "stdout",
     "output_type": "stream",
     "text": [
      "['Карл', 'у', 'Клары', 'украл', 'кораллы']\n",
      "\n",
      "\n",
      "['Карл', 'у', 'Клары', 'украл', 'кораллы']\n",
      "\n",
      "\n",
      "Карл\tу \tКлары украл\tкораллы\n",
      "['Карл', 'у', 'Клары', 'украл', 'кораллы']\n",
      "\n",
      "\n",
      "['Карл', 'у', '', 'Клары', '', 'украл', 'кораллы']\n"
     ]
    }
   ],
   "source": [
    "msg = \"Карл у Клары украл кораллы\"\n",
    "print(msg.split())\n",
    "\n",
    "print('\\n')\n",
    "\n",
    "# Если поставить два пробела, то после метода split() элементы списка не поменяются\n",
    "\n",
    "msg = \"Карл  у  Клары  украл  кораллы\"\n",
    "print(msg.split())\n",
    "\n",
    "print('\\n')\n",
    "\n",
    "# \\t -- табуляция в машинном коде\n",
    "\n",
    "msg = \"Карл\\tу \\tКлары украл\\tкораллы\"\n",
    "print(msg)\n",
    "print(msg.split())\n",
    "\n",
    "print('\\n')\n",
    "msg = \"Карл:у::Клары::украл:кораллы\"\n",
    "print(msg.split(':'))"
   ]
  },
  {
   "cell_type": "code",
   "execution_count": 26,
   "metadata": {},
   "outputs": [
    {
     "name": "stdout",
     "output_type": "stream",
     "text": [
      "Карл\n",
      "у\n",
      "Клары\n",
      "украл\n",
      "кораллы\n"
     ]
    }
   ],
   "source": [
    "# Распечатать текст в столбик по словам\n",
    "msg = \"Карл у Клары украл кораллы\"\n",
    "for s in msg.split():\n",
    "    print(s)"
   ]
  },
  {
   "cell_type": "code",
   "execution_count": 2,
   "metadata": {},
   "outputs": [
    {
     "name": "stdout",
     "output_type": "stream",
     "text": [
      "Карл\n",
      "у\n",
      "Клары\n",
      "украл\n",
      "кораллы\n"
     ]
    }
   ],
   "source": [
    "# Распечатать текст в столбик по словам\n",
    "msg = \"Карл=у=Клары=украл=кораллы\"\n",
    "for s in msg.split(\"=\"):\n",
    "    print(s)"
   ]
  },
  {
   "cell_type": "code",
   "execution_count": 29,
   "metadata": {},
   "outputs": [
    {
     "name": "stdout",
     "output_type": "stream",
     "text": [
      "Карл\tу\t Клары\tукрал\tкораллы \n",
      "\n",
      "Карл\n",
      "у\n",
      "Клары\n",
      "украл\n",
      "кораллы\n"
     ]
    }
   ],
   "source": [
    "# использование символа табуляции\n",
    "msg = \"Карл\\tу\\t Клары\\tукрал\\tкораллы\"\n",
    "print(msg, '\\n')\n",
    "\n",
    "for s in msg.split():\n",
    "    print(s)"
   ]
  },
  {
   "cell_type": "code",
   "execution_count": 34,
   "metadata": {},
   "outputs": [
    {
     "name": "stdout",
     "output_type": "stream",
     "text": [
      "xyxyxyxyxy\n",
      "==========\n",
      "['=', '=', '=', '=', '=', '=', '=', '=', '=', '=']\n"
     ]
    }
   ],
   "source": [
    "# Для строк доступны те же операции, что и для чисел\n",
    "\n",
    "print(\"xy\"*5)\n",
    "print(\"=\"*10)\n",
    "\n",
    "# Для списков тоже\n",
    "\n",
    "print([\"=\"]*10)"
   ]
  },
  {
   "cell_type": "code",
   "execution_count": 33,
   "metadata": {},
   "outputs": [
    {
     "name": "stdout",
     "output_type": "stream",
     "text": [
      " Карл\n",
      "     у\n",
      "      Клары\n",
      "           украл\n",
      "                кораллы\n"
     ]
    }
   ],
   "source": [
    "# Распечатать текст лесенкой по словам\n",
    "msg = \"Карл у Клары украл кораллы\"\n",
    "\n",
    "nb = 0    # счетчик пробелов\n",
    "for s in msg.split():\n",
    "    print(\" \"*nb, s)  # формируем длинный пробел\n",
    "    nb += len(s)     # увеличиваем счетчик пробелов\n"
   ]
  },
  {
   "cell_type": "code",
   "execution_count": 34,
   "metadata": {},
   "outputs": [
    {
     "name": "stdout",
     "output_type": "stream",
     "text": [
      "Сумма n**n (точное значение): 2018612200059554303215025\n",
      "Сумма n**n 19 чисел: 2.0186122000595543e+24\n"
     ]
    }
   ],
   "source": [
    "# вычислениe суммы n**n\n",
    "N = 20\n",
    "\n",
    "s = 0\n",
    "for n in range(N):\n",
    "    s += n**n\n",
    "ss = float(s)\n",
    "\n",
    "print(\"Сумма n**n (точное значение):\",s)\n",
    "print(\"Сумма n**n\", n, \"чисел:\", ss)\n"
   ]
  },
  {
   "cell_type": "code",
   "execution_count": 45,
   "metadata": {},
   "outputs": [
    {
     "name": "stdout",
     "output_type": "stream",
     "text": [
      "0 0\n",
      "1 0\n",
      "2 0\n",
      "3 0\n",
      "4 0\n",
      "5! = 0\n"
     ]
    }
   ],
   "source": [
    "# Почему  программа вычисления факториала работает неправильно? Найдите все ошибки.\n",
    "N = 5\n",
    "\n",
    "nf = 1\n",
    "for n in range(N):\n",
    "    nf *= n \n",
    "    print(n, nf)\n",
    "\n",
    "print(str(N)+'! =', nf)\n"
   ]
  },
  {
   "cell_type": "code",
   "execution_count": 37,
   "metadata": {},
   "outputs": [
    {
     "name": "stdout",
     "output_type": "stream",
     "text": [
      "30! = 265252859812191058636308480000000\n",
      "30! = 265252859812191058636308480000000\n"
     ]
    }
   ],
   "source": [
    "# программа вычисления факториала\n",
    "import math\n",
    "N = 30\n",
    "\n",
    "nf = 1\n",
    "for n in range(1, N + 1):\n",
    "    nf *= n\n",
    "\n",
    "print(str(N)+'! =', nf)\n",
    "# для сравнения вызываем стандартную программу\n",
    "print(str(N)+'! =', math.factorial(N)) "
   ]
  },
  {
   "cell_type": "markdown",
   "metadata": {},
   "source": [
    "Команда break"
   ]
  },
  {
   "cell_type": "code",
   "execution_count": 38,
   "metadata": {},
   "outputs": [
    {
     "name": "stdout",
     "output_type": "stream",
     "text": [
      "0\n",
      "1\n",
      "2\n",
      "3\n",
      "on exit: 4\n"
     ]
    }
   ],
   "source": [
    "for n in range(10):\n",
    "    if n > 3:\n",
    "        break\n",
    "    print(n)\n",
    "print('on exit:', n)"
   ]
  },
  {
   "cell_type": "markdown",
   "metadata": {},
   "source": [
    "Команда continue"
   ]
  },
  {
   "cell_type": "code",
   "execution_count": 39,
   "metadata": {},
   "outputs": [
    {
     "name": "stdout",
     "output_type": "stream",
     "text": [
      "3\n",
      "6\n",
      "9\n"
     ]
    }
   ],
   "source": [
    "for n in range(1,10):\n",
    "    if n%3 != 0:\n",
    "        continue\n",
    "    print(n)   "
   ]
  },
  {
   "cell_type": "code",
   "execution_count": 52,
   "metadata": {},
   "outputs": [
    {
     "name": "stdout",
     "output_type": "stream",
     "text": [
      "3\n",
      "6\n",
      "9\n"
     ]
    }
   ],
   "source": [
    "for n in range(1,10):\n",
    "    if not n%3:\n",
    "        print(n)   "
   ]
  },
  {
   "cell_type": "markdown",
   "metadata": {},
   "source": [
    "Перебор элементов списка"
   ]
  },
  {
   "cell_type": "code",
   "execution_count": 9,
   "metadata": {},
   "outputs": [
    {
     "name": "stdout",
     "output_type": "stream",
     "text": [
      "Python\n",
      "C\n",
      "Java\n",
      "JavaScript\n",
      "Pascal\n",
      "Fortran\n",
      "Cobol\n",
      "Cobol\n",
      "Algol\n",
      "Algol\n",
      "\n",
      "Java\n",
      "JavaScript\n"
     ]
    }
   ],
   "source": [
    "langs = ['Python', 'C', 'Java', 'JavaScript', 'Pascal', 'Fortran', 'Cobol', 'Cobol', 'Algol', 'Algol']\n",
    "\n",
    "for lang in langs:\n",
    "    print(lang)\n",
    "\n",
    "print()\n",
    "for lang in langs[2:4]:\n",
    "    print(lang)"
   ]
  },
  {
   "cell_type": "code",
   "execution_count": 40,
   "metadata": {
    "scrolled": true
   },
   "outputs": [
    {
     "name": "stdout",
     "output_type": "stream",
     "text": [
      "C\n",
      "JavaScript\n",
      "Fortran\n",
      "Cobol\n",
      "Algol\n"
     ]
    }
   ],
   "source": [
    "langs=['Python', 'C', 'Java', 'JavaScript', 'Pascal', 'Fortran', 'Cobol', 'Cobol', 'Algol', 'Algol']\n",
    "\n",
    "for n in range(1, len(langs), 2):\n",
    "    print(langs[n])"
   ]
  },
  {
   "cell_type": "markdown",
   "metadata": {},
   "source": [
    "Если требуется одновременно элемент списка и его индекс (например, нужно распечатать нумерованный список), то можно сделать так:"
   ]
  },
  {
   "cell_type": "code",
   "execution_count": 41,
   "metadata": {},
   "outputs": [
    {
     "name": "stdout",
     "output_type": "stream",
     "text": [
      "0 : Python\n",
      "1 : C\n",
      "2 : Java\n",
      "3 : JavaScript\n",
      "4 : Pascal\n",
      "5 : Fortran\n",
      "6 : Cobol\n",
      "7 : Cobol\n",
      "8 : Algol\n"
     ]
    }
   ],
   "source": [
    "langs=['Python', 'C', 'Java', 'JavaScript', 'Pascal', 'Fortran', 'Cobol', 'Cobol', 'Algol']\n",
    "\n",
    "for n in range(len(langs)):\n",
    "    print(n, \":\", langs[n])"
   ]
  },
  {
   "cell_type": "markdown",
   "metadata": {},
   "source": [
    "Но лучше использовать enumerate()"
   ]
  },
  {
   "cell_type": "code",
   "execution_count": 42,
   "metadata": {},
   "outputs": [
    {
     "name": "stdout",
     "output_type": "stream",
     "text": [
      "0 : Algol\n",
      "1 : C\n",
      "2 : Cobol\n",
      "3 : Fortran\n",
      "4 : Java\n",
      "5 : JavaScript\n",
      "6 : Pascal\n",
      "7 : Python\n"
     ]
    }
   ],
   "source": [
    "langs=['Python', 'C', 'Java', 'JavaScript', 'Pascal', 'Fortran', 'Cobol', 'Cobol', 'Algol']\n",
    "# преобразуем список в множество, чтобы удалить дубликаты\n",
    "langs = set(langs)\n",
    "# преобразуем множество в список\n",
    "langs = list(langs)\n",
    "# сортируем список\n",
    "langs.sort()\n",
    "\n",
    "for n, lang in enumerate(langs):\n",
    "    print(n, \":\", lang)"
   ]
  },
  {
   "cell_type": "code",
   "execution_count": 63,
   "metadata": {},
   "outputs": [
    {
     "name": "stdout",
     "output_type": "stream",
     "text": [
      " Карл\n",
      "\t у\n",
      "\t\t Клары\n",
      "\t\t\t украл\n",
      "\t\t\t\t кораллы\n"
     ]
    }
   ],
   "source": [
    "# Распечатать текст лесенкой по словам (решение с использованием табуляции)\n",
    "msg = \"Карл у Клары украл кораллы\"\n",
    "for n, s in enumerate(msg.split()):\n",
    "    print(\"\\t\"*n, s)    # используем знак табуляции"
   ]
  },
  {
   "cell_type": "markdown",
   "metadata": {},
   "source": [
    "Генератор списка"
   ]
  },
  {
   "cell_type": "code",
   "execution_count": 43,
   "metadata": {},
   "outputs": [
    {
     "name": "stdout",
     "output_type": "stream",
     "text": [
      "[16, 9, 4, 1, 0, 1, 4, 9]\n"
     ]
    }
   ],
   "source": [
    "# Сформировать список, содержащий квадраты чисел\n",
    "sqrs = []  # пустой список\n",
    "for x in range(-4,4):\n",
    "    sqrs.append(x**2)\n",
    "print(sqrs)"
   ]
  },
  {
   "cell_type": "markdown",
   "metadata": {},
   "source": [
    "Кортежи tuple() или () это такой тип данных, который очень похож на списки, но не совсем. Основное отличие в том, что их нельзя менять: один раз создав кортеж, вы его не сможете больше изменить. Это полезно, если вы боитесь, что можете где-то потерять данные при выполнении кода. Ещё они весят меньше чем списки. "
   ]
  },
  {
   "cell_type": "code",
   "execution_count": 3,
   "metadata": {},
   "outputs": [
    {
     "name": "stdout",
     "output_type": "stream",
     "text": [
      "72\n",
      "88\n"
     ]
    }
   ],
   "source": [
    "a = (1, 2, 3, 4, 5, 6)\n",
    "b = [1, 2, 3, 4, 5, 6]\n",
    "print(a.__sizeof__())\n",
    "print(b.__sizeof__())"
   ]
  },
  {
   "cell_type": "code",
   "execution_count": 4,
   "metadata": {},
   "outputs": [
    {
     "ename": "AttributeError",
     "evalue": "'tuple' object has no attribute 'append'",
     "output_type": "error",
     "traceback": [
      "\u001b[1;31m---------------------------------------------------------------------------\u001b[0m",
      "\u001b[1;31mAttributeError\u001b[0m                            Traceback (most recent call last)",
      "\u001b[1;32m<ipython-input-4-210e48a30048>\u001b[0m in \u001b[0;36m<module>\u001b[1;34m\u001b[0m\n\u001b[0;32m      2\u001b[0m \u001b[0msqrs\u001b[0m \u001b[1;33m=\u001b[0m \u001b[1;33m(\u001b[0m\u001b[1;33m)\u001b[0m \u001b[1;31m# пустой кортеж\u001b[0m\u001b[1;33m\u001b[0m\u001b[1;33m\u001b[0m\u001b[0m\n\u001b[0;32m      3\u001b[0m \u001b[1;32mfor\u001b[0m \u001b[0mx\u001b[0m \u001b[1;32min\u001b[0m \u001b[0mrange\u001b[0m\u001b[1;33m(\u001b[0m\u001b[1;33m-\u001b[0m\u001b[1;36m4\u001b[0m\u001b[1;33m,\u001b[0m\u001b[1;36m4\u001b[0m\u001b[1;33m)\u001b[0m\u001b[1;33m:\u001b[0m\u001b[1;33m\u001b[0m\u001b[1;33m\u001b[0m\u001b[0m\n\u001b[1;32m----> 4\u001b[1;33m     \u001b[0msqrs\u001b[0m\u001b[1;33m.\u001b[0m\u001b[0mappend\u001b[0m\u001b[1;33m(\u001b[0m\u001b[0mx\u001b[0m\u001b[1;33m**\u001b[0m\u001b[1;36m2\u001b[0m\u001b[1;33m)\u001b[0m    \u001b[1;31m# вызовет ошибку, так как нельзя добавлять что-то в уже созданный кортеж\u001b[0m\u001b[1;33m\u001b[0m\u001b[1;33m\u001b[0m\u001b[0m\n\u001b[0m\u001b[0;32m      5\u001b[0m \u001b[0mprint\u001b[0m\u001b[1;33m(\u001b[0m\u001b[0msqrs\u001b[0m\u001b[1;33m)\u001b[0m\u001b[1;33m\u001b[0m\u001b[1;33m\u001b[0m\u001b[0m\n",
      "\u001b[1;31mAttributeError\u001b[0m: 'tuple' object has no attribute 'append'"
     ]
    }
   ],
   "source": [
    "# Кортеж так сформировать нельзя:\n",
    "sqrs = () # пустой кортеж\n",
    "for x in range(-4,4):\n",
    "    sqrs.append(x**2)    # вызовет ошибку, так как нельзя добавлять что-то в уже созданный кортеж\n",
    "print(sqrs)"
   ]
  },
  {
   "cell_type": "markdown",
   "metadata": {},
   "source": [
    "Поэтому создав пустой кортеж, вы не сможите уже ничего в него добавить. Самый бесполезный объект во всем программировании..."
   ]
  },
  {
   "cell_type": "code",
   "execution_count": 5,
   "metadata": {},
   "outputs": [
    {
     "name": "stdout",
     "output_type": "stream",
     "text": [
      "s <class 'str'>\n"
     ]
    }
   ],
   "source": [
    "a = ('s')\n",
    "print(a, type(a))"
   ]
  },
  {
   "cell_type": "markdown",
   "metadata": {},
   "source": [
    "Почему получилась строка? Вроде бы мы положили туда какой-то элемент.. Все дело в синтаксисе: чтобы создался кортеж, нужно добавить запятую: "
   ]
  },
  {
   "cell_type": "code",
   "execution_count": 6,
   "metadata": {},
   "outputs": [
    {
     "name": "stdout",
     "output_type": "stream",
     "text": [
      "('s',) <class 'tuple'>\n"
     ]
    }
   ],
   "source": [
    "a = ('s',)\n",
    "print(a, type(a))"
   ]
  },
  {
   "cell_type": "markdown",
   "metadata": {},
   "source": [
    "Кортежи удобно использовать для записи, например, координат элементов вашего массива данных. Операции над кортежами выполнимы все те же, что и над списками, если они не меняют число элементов (сложение, умножение на число, методы index() и count() и некоторые другие операции). Можно также по-разному менять элементы местами и так далее.\n",
    "\n",
    "Например, гордость программистов на Python -- поменять местами значения двух переменных:"
   ]
  },
  {
   "cell_type": "code",
   "execution_count": 7,
   "metadata": {},
   "outputs": [
    {
     "name": "stdout",
     "output_type": "stream",
     "text": [
      "10 20\n",
      "20 10\n"
     ]
    }
   ],
   "source": [
    "a = 10\n",
    "b = 20\n",
    "print(a,b)\n",
    "\n",
    "a,b = b,a\n",
    "\n",
    "print(a,b)"
   ]
  },
  {
   "cell_type": "markdown",
   "metadata": {},
   "source": [
    "В такой форме будет работать быстрее:"
   ]
  },
  {
   "cell_type": "code",
   "execution_count": 44,
   "metadata": {},
   "outputs": [
    {
     "name": "stdout",
     "output_type": "stream",
     "text": [
      "<class 'list'> [16, 9, 4, 1, 0, 1, 4, 9]\n",
      "<class 'list'> [16, 9, 4, 1, 0, 1, 4, 9]\n"
     ]
    }
   ],
   "source": [
    "# List Comprehensions  списковое включение (https://ru.wikipedia.org/wiki/Списковое включение)\n",
    "\n",
    "sqrs = [x**2 for x in range(-4,4)]\n",
    "print(type(sqrs), sqrs)\n",
    "print(type(sqrs), sqrs)"
   ]
  },
  {
   "cell_type": "code",
   "execution_count": 18,
   "metadata": {},
   "outputs": [
    {
     "name": "stdout",
     "output_type": "stream",
     "text": [
      "[(0, 1), (0, 4), (0, 9), (1, 0), (1, 4), (1, 9), (4, 0), (4, 1), (4, 9), (9, 0), (9, 1), (9, 4)]\n"
     ]
    }
   ],
   "source": [
    "# перебор всех пар\n",
    "lst = [(x**2, y**2) for x in range(4) for y in range(4) if x != y]\n",
    "print(lst)"
   ]
  },
  {
   "cell_type": "code",
   "execution_count": 45,
   "metadata": {},
   "outputs": [
    {
     "name": "stdout",
     "output_type": "stream",
     "text": [
      "<class 'generator'> (16, 9, 4, 1, 0, 1, 4, 9)\n",
      "<class 'generator'> ()\n"
     ]
    }
   ],
   "source": [
    "# генератор, а не Tuple  Comprehensions!\n",
    "\n",
    "sqrs = (x**2 for x in range(-4,4))\n",
    "print(type(sqrs), tuple(sqrs))\n",
    "print(type(sqrs), tuple(sqrs)) # ненератор нельзя вызывать второй раз!"
   ]
  },
  {
   "cell_type": "code",
   "execution_count": 37,
   "metadata": {},
   "outputs": [
    {
     "name": "stdout",
     "output_type": "stream",
     "text": [
      "<class 'set'> {0, 1, 4, 9, 16}\n"
     ]
    }
   ],
   "source": [
    "# set  Comprehensions\n",
    "\n",
    "sqrs = {x**2 for x in range(-4,4)}\n",
    "print(type(sqrs), sqrs)"
   ]
  },
  {
   "cell_type": "code",
   "execution_count": 11,
   "metadata": {},
   "outputs": [
    {
     "name": "stdout",
     "output_type": "stream",
     "text": [
      "<class 'dict'> {1: 'a', 2: 'b', 3: 'c'}\n"
     ]
    }
   ],
   "source": [
    "# dict  Comprehensions - дополнительный материал\n",
    "\n",
    "d = {key: value for key, value in zip([1, 2, 3], ['a', 'b', 'c'])}\n",
    "print(type(d), d)"
   ]
  },
  {
   "cell_type": "code",
   "execution_count": 9,
   "metadata": {},
   "outputs": [
    {
     "name": "stdout",
     "output_type": "stream",
     "text": [
      "<class 'set'> {(1, 'a'), (3, 'c'), (2, 'b')}\n"
     ]
    }
   ],
   "source": [
    "# не путать с set  Comprehensions!\n",
    "\n",
    "d = {(key, value) for (key, value) in zip([1, 2, 3], ['a', 'b', 'c'])}\n",
    "print(type(d), d)"
   ]
  },
  {
   "cell_type": "code",
   "execution_count": 14,
   "metadata": {},
   "outputs": [
    {
     "name": "stdout",
     "output_type": "stream",
     "text": [
      "[(1, 'a'), (2, 'b'), (3, 'c')]\n",
      "<class 'dict'> {1: 'a', 2: 'b', 3: 'c'}\n"
     ]
    }
   ],
   "source": [
    "# как создать словарь:\n",
    "# вместо спискового включения [...] можно использовать генератор (...)\n",
    "\n",
    "lst = [(key, value) for (key, value) in zip([1, 2, 3], ['a', 'b', 'c'])]\n",
    "print(lst)\n",
    "d = dict(lst)\n",
    "print(type(d), d)"
   ]
  },
  {
   "cell_type": "code",
   "execution_count": 13,
   "metadata": {},
   "outputs": [
    {
     "name": "stdout",
     "output_type": "stream",
     "text": [
      "<class 'dict'> {1: 'a', 2: 'b', 3: 'c'}\n"
     ]
    }
   ],
   "source": [
    "# простой способ создания словаря\n",
    "\n",
    "d = dict(zip([1, 2, 3], ['a', 'b', 'c']))\n",
    "print(type(d), d)"
   ]
  },
  {
   "cell_type": "markdown",
   "metadata": {},
   "source": [
    "Одновременно можно проверять различные условия:"
   ]
  },
  {
   "cell_type": "code",
   "execution_count": 20,
   "metadata": {},
   "outputs": [
    {
     "name": "stdout",
     "output_type": "stream",
     "text": [
      "[16, 4, 0, 4]\n"
     ]
    }
   ],
   "source": [
    "# Сформировать список, содержащий квадраты только четных чисел\n",
    "sqrs = [x**2 for x in range(-4,4) if not x%2]\n",
    "print(sqrs)"
   ]
  },
  {
   "cell_type": "code",
   "execution_count": 20,
   "metadata": {},
   "outputs": [
    {
     "name": "stdout",
     "output_type": "stream",
     "text": [
      "(9, 1, 1, 9)\n"
     ]
    }
   ],
   "source": [
    "# Сформировать кортеж, содержащий квадраты только нечетных чисел\n",
    "sqrs = tuple(x**2 for x in range(-4,4) if x%2)\n",
    "print(sqrs)"
   ]
  },
  {
   "cell_type": "code",
   "execution_count": 22,
   "metadata": {},
   "outputs": [
    {
     "name": "stdout",
     "output_type": "stream",
     "text": [
      "['C', 'JavaScript', 'Fortran', 'Cobol', 'Algol']\n",
      "['Python', 'C', 'Java', 'JavaScript', 'Pascal', 'Fortran', 'Cobol', None, 'Algol', None, None]\n",
      "['Python', 'C', 'Java', 'JavaScript', 'Pascal', 'Fortran', 'Cobol', 'Algol']\n"
     ]
    }
   ],
   "source": [
    "langs=['Python', 'C', 'Java', 'JavaScript', 'Pascal', 'Fortran', 'Cobol', 'Cobol', 'Algol', 'Algol']\n",
    "\n",
    "# Печатать только элементы списка с нечетным номером\n",
    "print([lang for idx, lang in enumerate(langs) if idx%2])\n",
    "\n",
    "# Пропущенные значения\n",
    "langs[7] = langs[9] = None\n",
    "langs.append(None)\n",
    "print(langs)\n",
    "\n",
    "# Исключить пропущенные значения при печати\n",
    "print([lang for lang in langs if lang != None])"
   ]
  },
  {
   "cell_type": "markdown",
   "metadata": {},
   "source": [
    "## Циклы while"
   ]
  },
  {
   "cell_type": "markdown",
   "metadata": {},
   "source": [
    "Цикл while (“пока”) позволяет выполнить одну и ту же последовательность действий, пока проверяемое условие истинно. Условие записывается до тела цикла и проверяется до выполнения тела цикла. Обычно цикл while используется, когда невозможно определить точное значение количества проходов исполнения цикла."
   ]
  },
  {
   "cell_type": "code",
   "execution_count": 15,
   "metadata": {},
   "outputs": [
    {
     "name": "stdout",
     "output_type": "stream",
     "text": [
      "-2 -1 0 1 2 3 \n",
      " 4\n"
     ]
    }
   ],
   "source": [
    "n = -2\n",
    "\n",
    "while n <= 3:\n",
    "    print(n, end=' ')\n",
    "    n += 1\n",
    "\n",
    "print(n)"
   ]
  },
  {
   "cell_type": "code",
   "execution_count": 17,
   "metadata": {},
   "outputs": [
    {
     "name": "stdout",
     "output_type": "stream",
     "text": [
      "-1 0 1 2 3 4 4\n"
     ]
    }
   ],
   "source": [
    "n = -2\n",
    "\n",
    "while n <= 3:\n",
    "    n += 1\n",
    "    print(n, end=' ')\n",
    "  \n",
    "\n",
    "print(n)"
   ]
  },
  {
   "cell_type": "code",
   "execution_count": 2,
   "metadata": {},
   "outputs": [
    {
     "name": "stdout",
     "output_type": "stream",
     "text": [
      "[0, 1, 2, 3, 4, 0, 1, 2, 3, 4, 0, 1, 2, 3, 4, 2, 3]\n",
      "4 items removed:  [0, 1, 3, 4, 0, 1, 3, 4, 0, 1, 3, 4, 3]\n"
     ]
    }
   ],
   "source": [
    "# изменение списка в цикле\n",
    "\n",
    "# формируем список\n",
    "lst = list(range(5))\n",
    "lst *= 3\n",
    "lst += [2,3]\n",
    "print(lst)\n",
    "\n",
    "n = 0    # счетчик удаленных цифр\n",
    "k = 2\n",
    "# удаляем из списка все цифры 2\n",
    "while k in lst:\n",
    "    lst.remove(k)\n",
    "    n += 1\n",
    "\n",
    "print(n, 'items removed: ', lst)"
   ]
  },
  {
   "cell_type": "markdown",
   "metadata": {},
   "source": [
    "Взаимозаменяемость циклов"
   ]
  },
  {
   "cell_type": "code",
   "execution_count": 6,
   "metadata": {},
   "outputs": [
    {
     "name": "stdout",
     "output_type": "stream",
     "text": [
      "99 328350\n",
      "100 328350\n"
     ]
    }
   ],
   "source": [
    "N = 100\n",
    "s = 0\n",
    "for n in range(N):\n",
    "    s += n*n\n",
    "print(n, s)\n",
    "\n",
    "\n",
    "s = 0\n",
    "n = 0\n",
    "while n < N:\n",
    "    s += n*n\n",
    "    n += 1\n",
    "\n",
    "print(n, s)"
   ]
  },
  {
   "cell_type": "markdown",
   "metadata": {},
   "source": [
    "После тела цикла можно написать слово else: и после него блок операций, который будет выполнен один раз после окончания цикла, когда проверяемое условие станет неверно:"
   ]
  },
  {
   "cell_type": "code",
   "execution_count": null,
   "metadata": {},
   "outputs": [],
   "source": [
    "i = 1\n",
    "while i <= 10:\n",
    "    print(i)\n",
    "    i += 1\n",
    "else:\n",
    "    print('Цикл окончен, i =', i)"
   ]
  },
  {
   "cell_type": "markdown",
   "metadata": {},
   "source": [
    "Казалось бы, никакого смысла в этом нет, ведь эту же инструкцию можно просто написать после окончания цикла. Но смысл появляется только вместе с инструкцией break. Если во время выполнения кода Python встречает инструкцию break внутри цикла, то он сразу же прекращает выполнение этого цикла и выходит из него. При этом ветка else исполняться не будет. \n",
    "\n",
    "Разумеется, инструкцию break осмыленно вызывать только внутри инструкции if, то есть она должна выполняться только при выполнении какого-то особенного условия. Если написать её просто так, то цикл остановится после первой же итерации. \n",
    "\n",
    "Приведем пример программы, которая считывает числа до тех пор, пока не встретит отрицательное число (пока вы его не введёте). При появлении отрицательного числа программа завершается, а цикл закрывается в ситуации ввода 0."
   ]
  },
  {
   "cell_type": "code",
   "execution_count": 19,
   "metadata": {},
   "outputs": [
    {
     "name": "stdout",
     "output_type": "stream",
     "text": [
      "9\n",
      "4\n",
      "5\n",
      "1\n",
      "2\n",
      "4\n",
      "0\n",
      "Ни одного отрицательного числа не встретилось\n"
     ]
    }
   ],
   "source": [
    "a = int(input())\n",
    "\n",
    "while a != 0:\n",
    "    if a < 0:\n",
    "        print('Встретилось отрицательное число', a)\n",
    "        break\n",
    "    a = int(input())\n",
    "else:\n",
    "    print('Ни одного отрицательного числа не встретилось')"
   ]
  }
 ],
 "metadata": {
  "celltoolbar": "Raw Cell Format",
  "kernelspec": {
   "display_name": "Python 3",
   "language": "python",
   "name": "python3"
  },
  "language_info": {
   "codemirror_mode": {
    "name": "ipython",
    "version": 3
   },
   "file_extension": ".py",
   "mimetype": "text/x-python",
   "name": "python",
   "nbconvert_exporter": "python",
   "pygments_lexer": "ipython3",
   "version": "3.8.5"
  },
  "toc": {
   "base_numbering": 1,
   "nav_menu": {},
   "number_sections": true,
   "sideBar": true,
   "skip_h1_title": false,
   "title_cell": "Table of Contents",
   "title_sidebar": "Contents",
   "toc_cell": false,
   "toc_position": {},
   "toc_section_display": true,
   "toc_window_display": false
  }
 },
 "nbformat": 4,
 "nbformat_minor": 4
}
