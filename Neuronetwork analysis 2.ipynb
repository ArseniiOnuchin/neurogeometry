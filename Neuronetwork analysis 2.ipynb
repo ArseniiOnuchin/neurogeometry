{
 "cells": [
  {
   "cell_type": "markdown",
   "metadata": {},
   "source": [
    "# Neuronetwork analysis: topology\n",
    "\n",
    "Этот ноутбук посвящен введению в анализ сетевых структур: топологическими методами. Основные задачи: обзор существующих библиотек на python и базовых методов анализа сетевых данных. \n",
    "\n",
    "### Онучин Арсений \n",
    "Факультет Психологии МГУ \n",
    "\n",
    "Моя почта: arseniyonuchin04.09.97@gmail.com"
   ]
  }
 ],
 "metadata": {
  "kernelspec": {
   "display_name": "Python 3",
   "language": "python",
   "name": "python3"
  },
  "language_info": {
   "codemirror_mode": {
    "name": "ipython",
    "version": 3
   },
   "file_extension": ".py",
   "mimetype": "text/x-python",
   "name": "python",
   "nbconvert_exporter": "python",
   "pygments_lexer": "ipython3",
   "version": "3.8.5"
  }
 },
 "nbformat": 4,
 "nbformat_minor": 4
}
